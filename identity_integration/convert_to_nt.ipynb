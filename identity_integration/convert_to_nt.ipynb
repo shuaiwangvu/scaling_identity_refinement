{
 "cells": [
  {
   "cell_type": "code",
   "execution_count": 1,
   "metadata": {},
   "outputs": [],
   "source": [
    "SAMEAS = 'http://www.w3.org/2002/07/owl#sameAs'\n",
    "EXACTMATCH = 'http://www.w3.org/2004/02/skos/core#exactMatch'\n",
    "files = ['commons-sameas-links_lang=nl.ttl']"
   ]
  },
  {
   "cell_type": "code",
   "execution_count": 2,
   "metadata": {},
   "outputs": [],
   "source": [
    "def convert_to_nt(filename):\n",
    "    print ('processing file ', filename)\n",
    "    total_triples = 0\n",
    "    sameas_triples = 0\n",
    "    exactmatch_triples = 0\n",
    "    new_file = open(f\"converted_nt/{filename.split('.')[0]}.nt\", 'a', encoding='utf-8')\n",
    "    with open(filename, 'r', encoding='utf-8') as infile:\n",
    "        for line in infile: \n",
    "            if '<' in line:\n",
    "                total_triples += 1\n",
    "                if SAMEAS in line:\n",
    "                    sameas_triples += 1\n",
    "                    new_file.write(line)\n",
    "                elif EXACTMATCH in line:\n",
    "                    exactmatch_triples += 1\n",
    "                    new_file.write(line)\n",
    "                if total_triples % 10000000 == 0:\n",
    "                    print ('\\tprocessed ', total_triples, ' lines')\n",
    "        print(f\"{filename} has {total_triples} total triples, {sameas_triples} owl:sameAs triples and, {exactmatch_triples} skos:exactMatch triples\")\n",
    "        new_file.close()"
   ]
  },
  {
   "cell_type": "code",
   "execution_count": 3,
   "metadata": {},
   "outputs": [
    {
     "name": "stdout",
     "output_type": "stream",
     "text": [
      "processing file  commons-sameas-links_lang=nl.ttl\n",
      "commons-sameas-links_lang=nl.ttl has 5900 total triples, 5900 owl:sameAs triples and, 0 skos:exactMatch triples\n"
     ]
    }
   ],
   "source": [
    "for file in files:\n",
    "\tconvert_to_nt(file)"
   ]
  }
 ],
 "metadata": {
  "interpreter": {
   "hash": "570feb405e2e27c949193ac68f46852414290d515b0ba6e5d90d076ed2284471"
  },
  "kernelspec": {
   "display_name": "Python 3.8.2 64-bit",
   "language": "python",
   "name": "python3"
  },
  "language_info": {
   "codemirror_mode": {
    "name": "ipython",
    "version": 3
   },
   "file_extension": ".py",
   "mimetype": "text/x-python",
   "name": "python",
   "nbconvert_exporter": "python",
   "pygments_lexer": "ipython3",
   "version": "3.8.2"
  },
  "orig_nbformat": 4
 },
 "nbformat": 4,
 "nbformat_minor": 2
}
