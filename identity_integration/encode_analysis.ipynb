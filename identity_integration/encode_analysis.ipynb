{
 "cells": [
  {
   "cell_type": "code",
   "execution_count": 2,
   "metadata": {},
   "outputs": [
    {
     "ename": "ModuleNotFoundError",
     "evalue": "No module named 'hdt'",
     "output_type": "error",
     "traceback": [
      "\u001b[1;31m---------------------------------------------------------------------------\u001b[0m",
      "\u001b[1;31mModuleNotFoundError\u001b[0m                       Traceback (most recent call last)",
      "\u001b[1;32m~\\AppData\\Local\\Temp/ipykernel_13040/1137159943.py\u001b[0m in \u001b[0;36m<module>\u001b[1;34m\u001b[0m\n\u001b[0;32m      2\u001b[0m \u001b[1;32mimport\u001b[0m \u001b[0murllib\u001b[0m\u001b[1;33m.\u001b[0m\u001b[0mparse\u001b[0m\u001b[1;33m\u001b[0m\u001b[1;33m\u001b[0m\u001b[0m\n\u001b[0;32m      3\u001b[0m \u001b[1;32mfrom\u001b[0m \u001b[0mextend_metalink\u001b[0m \u001b[1;32mimport\u001b[0m \u001b[1;33m*\u001b[0m\u001b[1;33m\u001b[0m\u001b[1;33m\u001b[0m\u001b[0m\n\u001b[1;32m----> 4\u001b[1;33m \u001b[1;32mfrom\u001b[0m \u001b[0mSameAsEqGraph\u001b[0m \u001b[1;32mimport\u001b[0m \u001b[1;33m*\u001b[0m\u001b[1;33m\u001b[0m\u001b[1;33m\u001b[0m\u001b[0m\n\u001b[0m\u001b[0;32m      5\u001b[0m \u001b[1;32mfrom\u001b[0m \u001b[0mrfc3987\u001b[0m \u001b[1;32mimport\u001b[0m  \u001b[0mparse\u001b[0m\u001b[1;33m\u001b[0m\u001b[1;33m\u001b[0m\u001b[0m\n",
      "\u001b[1;32mc:\\Users\\Idries\\Desktop\\Thesis\\scaling_identity_refinement\\identity_integration\\SameAsEqGraph.py\u001b[0m in \u001b[0;36m<module>\u001b[1;34m\u001b[0m\n\u001b[0;32m      4\u001b[0m \u001b[1;32mimport\u001b[0m \u001b[0mtldextract\u001b[0m\u001b[1;33m\u001b[0m\u001b[1;33m\u001b[0m\u001b[0m\n\u001b[0;32m      5\u001b[0m \u001b[1;32mimport\u001b[0m \u001b[0mcsv\u001b[0m\u001b[1;33m\u001b[0m\u001b[1;33m\u001b[0m\u001b[0m\n\u001b[1;32m----> 6\u001b[1;33m \u001b[1;32mfrom\u001b[0m \u001b[0mhdt\u001b[0m \u001b[1;32mimport\u001b[0m \u001b[0mHDTDocument\u001b[0m\u001b[1;33m,\u001b[0m \u001b[0mIdentifierPosition\u001b[0m\u001b[1;33m\u001b[0m\u001b[1;33m\u001b[0m\u001b[0m\n\u001b[0m\u001b[0;32m      7\u001b[0m \u001b[1;32mfrom\u001b[0m \u001b[0mrfc3987\u001b[0m \u001b[1;32mimport\u001b[0m  \u001b[0mparse\u001b[0m\u001b[1;33m\u001b[0m\u001b[1;33m\u001b[0m\u001b[0m\n\u001b[0;32m      8\u001b[0m \u001b[1;33m\u001b[0m\u001b[0m\n",
      "\u001b[1;31mModuleNotFoundError\u001b[0m: No module named 'hdt'"
     ]
    }
   ],
   "source": [
    "import networkx as nx\n",
    "import urllib.parse\n",
    "from extend_metalink import *\n",
    "from SameAsEqGraph import *\n",
    "from rfc3987 import  parse"
   ]
  },
  {
   "cell_type": "code",
   "execution_count": 12,
   "metadata": {},
   "outputs": [],
   "source": [
    "def obtaing_ee_graph(graph):\n",
    "    #step 1: make an authority map to node\n",
    "    authority_map = {}\n",
    "    variance_map = {}\n",
    "\n",
    "    for n in graph.nodes:\n",
    "        d = parse(n, 'IRI') # ’IRI_reference’ rfc3987\n",
    "\n",
    "        if d['authority'] in authority_map.keys():\n",
    "            authority_map[d['authority']].append(n)\n",
    "        else:\n",
    "            authority_map[d['authority']] = n\n",
    "        \n",
    "        # step 2: construct a dictionary of each node against\n",
    "        # decoding and add to the list\n",
    "        variance_map[n] = set()\n",
    "        \n",
    "        uq = urllib.parse.unquote(n)\n",
    "        if uq != n:\n",
    "            variance_map[n].add(uq)\n",
    "\n",
    "        # get an encoding of the current iri\n",
    "        prefix, sign, name = get_name(n)\n",
    "        quote_name = urllib.parse.quote(name)\n",
    "        new_iri = prefix + quote_name\n",
    "\n",
    "        if new_iri != n:\n",
    "            variance_map[n].add(new_iri)\n",
    "    \n",
    "    encoding_equality_graph = nx.Graph()\n",
    "    for iri_with_same_authority in authority_map.values():\n",
    "        for i in iri_with_same_authority:\n",
    "            for j in iri_with_same_authority:\n",
    "                if i != j: # avoid reflexive edges\n",
    "                    if i in variance_map[j] or j in variance_map[i]: # test if i is the same as any of j's variances\n",
    "                        encoding_equality_graph.add_edge(i,j)\n",
    "    \n",
    "    print ('original graph has ', graph.number_of_nodes(), ' nodes')\n",
    "    print ('original graph has ', graph.number_of_edges(), ' edges')\n",
    "    print ('there are ', encoding_equality_graph.number_of_nodes() , ' nodes in the equivalence graph')\n",
    "    print ('there are ', encoding_equality_graph.number_of_edges() , ' edges in the equivalence graph')\n",
    "\n",
    "    return encoding_equality_graph"
   ]
  },
  {
   "cell_type": "code",
   "execution_count": 11,
   "metadata": {},
   "outputs": [],
   "source": [
    "def export_ee_graph_edges(file_name, graph):\n",
    "    with open(file_name, 'w') as output:\n",
    "        for (l,r) in graph.edges():\n",
    "            line = '<' + 1 + '>'\n",
    "            line += '<' + my_encoding_equivalence + '>'\n",
    "            if r[0] == '\"':\n",
    "                if \"^^\" in r:\n",
    "                    line += '' + r + '.\\n'\n",
    "                else:\n",
    "                    line += '' + r + \"^^<http://www.w3.org/2001/XMLSchema#string>\" + ' .\\n'\n",
    "            else:\n",
    "                line += '<' + r + '>'\n",
    "            output.write(str(line))"
   ]
  }
 ],
 "metadata": {
  "interpreter": {
   "hash": "f4856f06944c4b3c813e85b7a0fddc34ad1a42525098d1066ef7be97a192d967"
  },
  "kernelspec": {
   "display_name": "Python 3.8.12 ('base')",
   "language": "python",
   "name": "python3"
  },
  "language_info": {
   "codemirror_mode": {
    "name": "ipython",
    "version": 3
   },
   "file_extension": ".py",
   "mimetype": "text/x-python",
   "name": "python",
   "nbconvert_exporter": "python",
   "pygments_lexer": "ipython3",
   "version": "3.8.12"
  },
  "orig_nbformat": 4
 },
 "nbformat": 4,
 "nbformat_minor": 2
}
